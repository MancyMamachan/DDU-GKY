{
 "cells": [
  {
   "cell_type": "markdown",
   "id": "31b04f35",
   "metadata": {},
   "source": [
    "# BOOLEAN MASKING"
   ]
  },
  {
   "cell_type": "code",
   "execution_count": 1,
   "id": "480b1374",
   "metadata": {},
   "outputs": [],
   "source": [
    "import pandas as pd\n",
    "import numpy as np\n",
    "import warnings\n",
    "warnings.filterwarnings(\"ignore\")"
   ]
  },
  {
   "cell_type": "code",
   "execution_count": 3,
   "id": "2f1fab65",
   "metadata": {},
   "outputs": [
    {
     "data": {
      "text/plain": [
       "3        5\n",
       "7       64\n",
       "8      128\n",
       "9      256\n",
       "10     512\n",
       "11    1024\n",
       "dtype: int64"
      ]
     },
     "execution_count": 3,
     "metadata": {},
     "output_type": "execute_result"
    }
   ],
   "source": [
    "    twopowers_sr=pd.Series([1,2,4,5,8,16,32,64,128,256,512,1024])\n",
    "    BM=[False,False,False,True,False,False,False,True,True,True,True,True]\n",
    "    twopowers_sr[BM]"
   ]
  },
  {
   "cell_type": "code",
   "execution_count": 5,
   "id": "f21ee381",
   "metadata": {},
   "outputs": [
    {
     "ename": "NameError",
     "evalue": "name 'twopowers_sr' is not defined",
     "output_type": "error",
     "traceback": [
      "\u001b[1;31m---------------------------------------------------------------------------\u001b[0m",
      "\u001b[1;31mNameError\u001b[0m                                 Traceback (most recent call last)",
      "\u001b[1;32m~\\AppData\\Local\\Temp\\ipykernel_8120\\3189614877.py\u001b[0m in \u001b[0;36m<module>\u001b[1;34m\u001b[0m\n\u001b[1;32m----> 1\u001b[1;33m \u001b[0mBM\u001b[0m\u001b[1;33m=\u001b[0m\u001b[0mtwopowers_sr\u001b[0m\u001b[1;33m>=\u001b[0m\u001b[1;36m500\u001b[0m\u001b[1;33m\u001b[0m\u001b[1;33m\u001b[0m\u001b[0m\n\u001b[0m\u001b[0;32m      2\u001b[0m \u001b[0mtwopowers_sr\u001b[0m\u001b[1;33m[\u001b[0m\u001b[0mBM\u001b[0m\u001b[1;33m]\u001b[0m\u001b[1;33m\u001b[0m\u001b[1;33m\u001b[0m\u001b[0m\n",
      "\u001b[1;31mNameError\u001b[0m: name 'twopowers_sr' is not defined"
     ]
    }
   ],
   "source": [
    "BM=twopowers_sr>=500\n",
    "twopowers_sr[BM]"
   ]
  },
  {
   "cell_type": "code",
   "execution_count": 7,
   "id": "62f4690a",
   "metadata": {},
   "outputs": [
    {
     "data": {
      "text/plain": [
       "3        5\n",
       "7       64\n",
       "8      128\n",
       "9      256\n",
       "10     512\n",
       "11    1024\n",
       "dtype: int64"
      ]
     },
     "execution_count": 7,
     "metadata": {},
     "output_type": "execute_result"
    }
   ],
   "source": [
    "import pandas as pd\n",
    "import numpy as np\n",
    "import warnings\n",
    "warnings.filterwarnings(\"ignore\")\n",
    "twopowers_sr=pd.Series([1,2,4,5,8,16,32,64,128,256,512,1024])\n",
    "BM=[False,False,False,True,False,False,False,True,True,True,True,True]\n",
    "twopowers_sr[BM]"
   ]
  },
  {
   "cell_type": "code",
   "execution_count": 8,
   "id": "75143d76",
   "metadata": {},
   "outputs": [
    {
     "data": {
      "text/plain": [
       "10     512\n",
       "11    1024\n",
       "dtype: int64"
      ]
     },
     "execution_count": 8,
     "metadata": {},
     "output_type": "execute_result"
    }
   ],
   "source": [
    "BM=twopowers_sr>=500\n",
    "twopowers_sr[BM]"
   ]
  },
  {
   "cell_type": "code",
   "execution_count": null,
   "id": "b655ac55",
   "metadata": {},
   "outputs": [],
   "source": []
  }
 ],
 "metadata": {
  "kernelspec": {
   "display_name": "Python 3 (ipykernel)",
   "language": "python",
   "name": "python3"
  },
  "language_info": {
   "codemirror_mode": {
    "name": "ipython",
    "version": 3
   },
   "file_extension": ".py",
   "mimetype": "text/x-python",
   "name": "python",
   "nbconvert_exporter": "python",
   "pygments_lexer": "ipython3",
   "version": "3.9.13"
  }
 },
 "nbformat": 4,
 "nbformat_minor": 5
}
