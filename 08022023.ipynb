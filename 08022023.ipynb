{
 "cells": [
  {
   "cell_type": "markdown",
   "id": "a35e8dea",
   "metadata": {},
   "source": [
    "# NumPy"
   ]
  },
  {
   "cell_type": "code",
   "execution_count": 2,
   "id": "e56b6213",
   "metadata": {},
   "outputs": [],
   "source": [
    "import numpy as np\n",
    "import warnings\n",
    "warnings.filterwarnings(\"ignore\")"
   ]
  },
  {
   "cell_type": "code",
   "execution_count": 8,
   "id": "ce3615e4",
   "metadata": {},
   "outputs": [],
   "source": [
    "a=np.array([1,2,3,4,5])"
   ]
  },
  {
   "cell_type": "markdown",
   "id": "9c0ee01a",
   "metadata": {},
   "source": [
    "# 1D array"
   ]
  },
  {
   "cell_type": "code",
   "execution_count": 9,
   "id": "5fd54502",
   "metadata": {},
   "outputs": [
    {
     "data": {
      "text/plain": [
       "dtype('int32')"
      ]
     },
     "execution_count": 9,
     "metadata": {},
     "output_type": "execute_result"
    }
   ],
   "source": [
    "a.dtype"
   ]
  },
  {
   "cell_type": "code",
   "execution_count": 10,
   "id": "4b61f6fa",
   "metadata": {},
   "outputs": [
    {
     "data": {
      "text/plain": [
       "5"
      ]
     },
     "execution_count": 10,
     "metadata": {},
     "output_type": "execute_result"
    }
   ],
   "source": [
    "a.size"
   ]
  },
  {
   "cell_type": "code",
   "execution_count": 11,
   "id": "9603b2b4",
   "metadata": {},
   "outputs": [
    {
     "data": {
      "text/plain": [
       "(5,)"
      ]
     },
     "execution_count": 11,
     "metadata": {},
     "output_type": "execute_result"
    }
   ],
   "source": [
    "a.shape"
   ]
  },
  {
   "cell_type": "code",
   "execution_count": 12,
   "id": "2d8dcce6",
   "metadata": {},
   "outputs": [
    {
     "data": {
      "text/plain": [
       "1"
      ]
     },
     "execution_count": 12,
     "metadata": {},
     "output_type": "execute_result"
    }
   ],
   "source": [
    "a.ndim"
   ]
  },
  {
   "cell_type": "code",
   "execution_count": 13,
   "id": "9eaa96ab",
   "metadata": {},
   "outputs": [
    {
     "data": {
      "text/plain": [
       "1"
      ]
     },
     "execution_count": 13,
     "metadata": {},
     "output_type": "execute_result"
    }
   ],
   "source": [
    "a[0]"
   ]
  },
  {
   "cell_type": "code",
   "execution_count": 14,
   "id": "83af59f6",
   "metadata": {},
   "outputs": [
    {
     "data": {
      "text/plain": [
       "4"
      ]
     },
     "execution_count": 14,
     "metadata": {},
     "output_type": "execute_result"
    }
   ],
   "source": [
    "a[3]"
   ]
  },
  {
   "cell_type": "markdown",
   "id": "3603e8cd",
   "metadata": {},
   "source": [
    "# 2D array"
   ]
  },
  {
   "cell_type": "code",
   "execution_count": 34,
   "id": "6a4070a8",
   "metadata": {},
   "outputs": [],
   "source": [
    "b=np.array([[1,2,3],[5,6,6]])"
   ]
  },
  {
   "cell_type": "code",
   "execution_count": 35,
   "id": "a67ce6fb",
   "metadata": {},
   "outputs": [
    {
     "data": {
      "text/plain": [
       "dtype('int32')"
      ]
     },
     "execution_count": 35,
     "metadata": {},
     "output_type": "execute_result"
    }
   ],
   "source": [
    "b.dtype"
   ]
  },
  {
   "cell_type": "code",
   "execution_count": 20,
   "id": "971d6465",
   "metadata": {},
   "outputs": [
    {
     "data": {
      "text/plain": [
       "2"
      ]
     },
     "execution_count": 20,
     "metadata": {},
     "output_type": "execute_result"
    }
   ],
   "source": [
    "b.size"
   ]
  },
  {
   "cell_type": "code",
   "execution_count": 21,
   "id": "76fa4fd2",
   "metadata": {},
   "outputs": [
    {
     "data": {
      "text/plain": [
       "1"
      ]
     },
     "execution_count": 21,
     "metadata": {},
     "output_type": "execute_result"
    }
   ],
   "source": [
    "b.ndim"
   ]
  },
  {
   "cell_type": "code",
   "execution_count": 22,
   "id": "40d9a37f",
   "metadata": {},
   "outputs": [
    {
     "data": {
      "text/plain": [
       "(2,)"
      ]
     },
     "execution_count": 22,
     "metadata": {},
     "output_type": "execute_result"
    }
   ],
   "source": [
    "b.shape"
   ]
  },
  {
   "cell_type": "code",
   "execution_count": 24,
   "id": "10748e5b",
   "metadata": {},
   "outputs": [
    {
     "data": {
      "text/plain": [
       "[1, 2, 3]"
      ]
     },
     "execution_count": 24,
     "metadata": {},
     "output_type": "execute_result"
    }
   ],
   "source": [
    "b[0]"
   ]
  },
  {
   "cell_type": "code",
   "execution_count": 26,
   "id": "789a856f",
   "metadata": {},
   "outputs": [
    {
     "data": {
      "text/plain": [
       "[5, 6]"
      ]
     },
     "execution_count": 26,
     "metadata": {},
     "output_type": "execute_result"
    }
   ],
   "source": [
    "b[1]"
   ]
  },
  {
   "cell_type": "code",
   "execution_count": 28,
   "id": "403f20a6",
   "metadata": {},
   "outputs": [
    {
     "data": {
      "text/plain": [
       "1"
      ]
     },
     "execution_count": 28,
     "metadata": {},
     "output_type": "execute_result"
    }
   ],
   "source": [
    "b[0][0]"
   ]
  },
  {
   "cell_type": "code",
   "execution_count": 29,
   "id": "5ca59b42",
   "metadata": {},
   "outputs": [
    {
     "data": {
      "text/plain": [
       "3"
      ]
     },
     "execution_count": 29,
     "metadata": {},
     "output_type": "execute_result"
    }
   ],
   "source": [
    "b[0][2]"
   ]
  },
  {
   "cell_type": "code",
   "execution_count": 36,
   "id": "969bc361",
   "metadata": {},
   "outputs": [
    {
     "data": {
      "text/plain": [
       "array([[1, 2, 3],\n",
       "       [5, 6, 6]])"
      ]
     },
     "execution_count": 36,
     "metadata": {},
     "output_type": "execute_result"
    }
   ],
   "source": [
    "b"
   ]
  },
  {
   "cell_type": "code",
   "execution_count": 38,
   "id": "0e247f2f",
   "metadata": {},
   "outputs": [
    {
     "data": {
      "text/plain": [
       "dtype('int32')"
      ]
     },
     "execution_count": 38,
     "metadata": {},
     "output_type": "execute_result"
    }
   ],
   "source": [
    "b.dtype"
   ]
  },
  {
   "cell_type": "code",
   "execution_count": 37,
   "id": "d22d78dd",
   "metadata": {},
   "outputs": [
    {
     "data": {
      "text/plain": [
       "array([[1, 2, 3],\n",
       "       [5, 6, 6]])"
      ]
     },
     "execution_count": 37,
     "metadata": {},
     "output_type": "execute_result"
    }
   ],
   "source": [
    "b"
   ]
  },
  {
   "cell_type": "markdown",
   "id": "4bedb060",
   "metadata": {},
   "source": [
    "# multi dimensional array"
   ]
  },
  {
   "cell_type": "code",
   "execution_count": 40,
   "id": "64060846",
   "metadata": {},
   "outputs": [],
   "source": [
    "c=np.array([[[[2,3]]]])"
   ]
  },
  {
   "cell_type": "code",
   "execution_count": 41,
   "id": "70322a73",
   "metadata": {},
   "outputs": [
    {
     "data": {
      "text/plain": [
       "array([[[[2, 3]]]])"
      ]
     },
     "execution_count": 41,
     "metadata": {},
     "output_type": "execute_result"
    }
   ],
   "source": [
    "c"
   ]
  },
  {
   "cell_type": "code",
   "execution_count": 42,
   "id": "f814b419",
   "metadata": {},
   "outputs": [
    {
     "data": {
      "text/plain": [
       "2"
      ]
     },
     "execution_count": 42,
     "metadata": {},
     "output_type": "execute_result"
    }
   ],
   "source": [
    "c.size"
   ]
  },
  {
   "cell_type": "code",
   "execution_count": 43,
   "id": "f40f3ae6",
   "metadata": {},
   "outputs": [
    {
     "data": {
      "text/plain": [
       "(1, 1, 1, 2)"
      ]
     },
     "execution_count": 43,
     "metadata": {},
     "output_type": "execute_result"
    }
   ],
   "source": [
    "c.shape"
   ]
  },
  {
   "cell_type": "code",
   "execution_count": 44,
   "id": "5035873d",
   "metadata": {},
   "outputs": [
    {
     "data": {
      "text/plain": [
       "4"
      ]
     },
     "execution_count": 44,
     "metadata": {},
     "output_type": "execute_result"
    }
   ],
   "source": [
    "c.ndim"
   ]
  },
  {
   "cell_type": "code",
   "execution_count": 45,
   "id": "7e99e51a",
   "metadata": {},
   "outputs": [
    {
     "data": {
      "text/plain": [
       "dtype('int32')"
      ]
     },
     "execution_count": 45,
     "metadata": {},
     "output_type": "execute_result"
    }
   ],
   "source": [
    "c.dtype"
   ]
  },
  {
   "cell_type": "code",
   "execution_count": 48,
   "id": "9ccc812e",
   "metadata": {},
   "outputs": [
    {
     "data": {
      "text/plain": [
       "array([[2, 3]])"
      ]
     },
     "execution_count": 48,
     "metadata": {},
     "output_type": "execute_result"
    }
   ],
   "source": [
    "c[0][0]"
   ]
  },
  {
   "cell_type": "code",
   "execution_count": 56,
   "id": "756db760",
   "metadata": {},
   "outputs": [],
   "source": [
    "d=np.array([[[1,2,3,4]]])"
   ]
  },
  {
   "cell_type": "code",
   "execution_count": 57,
   "id": "0d2f8acb",
   "metadata": {},
   "outputs": [
    {
     "data": {
      "text/plain": [
       "array([[[1, 2, 3, 4]]])"
      ]
     },
     "execution_count": 57,
     "metadata": {},
     "output_type": "execute_result"
    }
   ],
   "source": [
    "d"
   ]
  },
  {
   "cell_type": "code",
   "execution_count": 58,
   "id": "dc2cafd1",
   "metadata": {},
   "outputs": [
    {
     "data": {
      "text/plain": [
       "(1, 1, 4)"
      ]
     },
     "execution_count": 58,
     "metadata": {},
     "output_type": "execute_result"
    }
   ],
   "source": [
    "d.shape"
   ]
  },
  {
   "cell_type": "code",
   "execution_count": 59,
   "id": "e4b9f8de",
   "metadata": {},
   "outputs": [
    {
     "data": {
      "text/plain": [
       "3"
      ]
     },
     "execution_count": 59,
     "metadata": {},
     "output_type": "execute_result"
    }
   ],
   "source": [
    "d.ndim"
   ]
  },
  {
   "cell_type": "code",
   "execution_count": 62,
   "id": "cc02f915",
   "metadata": {},
   "outputs": [
    {
     "data": {
      "text/plain": [
       "array([1, 2, 3, 4])"
      ]
     },
     "execution_count": 62,
     "metadata": {},
     "output_type": "execute_result"
    }
   ],
   "source": [
    "d[0][0]"
   ]
  },
  {
   "cell_type": "code",
   "execution_count": 70,
   "id": "c46d0a7d",
   "metadata": {},
   "outputs": [],
   "source": [
    "e=np.array([[[[[3]]]]])"
   ]
  },
  {
   "cell_type": "code",
   "execution_count": 71,
   "id": "9806ca4e",
   "metadata": {},
   "outputs": [
    {
     "data": {
      "text/plain": [
       "array([[[[[3]]]]])"
      ]
     },
     "execution_count": 71,
     "metadata": {},
     "output_type": "execute_result"
    }
   ],
   "source": [
    "e"
   ]
  },
  {
   "cell_type": "code",
   "execution_count": 72,
   "id": "50b710bf",
   "metadata": {},
   "outputs": [
    {
     "data": {
      "text/plain": [
       "5"
      ]
     },
     "execution_count": 72,
     "metadata": {},
     "output_type": "execute_result"
    }
   ],
   "source": [
    "e.ndim"
   ]
  },
  {
   "cell_type": "code",
   "execution_count": 84,
   "id": "450ff5c6",
   "metadata": {},
   "outputs": [],
   "source": [
    "f=np.array([[[[[1,2,3,4],[2,3,4,5],[3,4,5,6],[4,5,6,7]]]]],dtype=float)"
   ]
  },
  {
   "cell_type": "code",
   "execution_count": 85,
   "id": "0e0eaedc",
   "metadata": {},
   "outputs": [
    {
     "data": {
      "text/plain": [
       "array([[[[[1., 2., 3., 4.],\n",
       "          [2., 3., 4., 5.],\n",
       "          [3., 4., 5., 6.],\n",
       "          [4., 5., 6., 7.]]]]])"
      ]
     },
     "execution_count": 85,
     "metadata": {},
     "output_type": "execute_result"
    }
   ],
   "source": [
    "f"
   ]
  },
  {
   "cell_type": "code",
   "execution_count": 86,
   "id": "96d71671",
   "metadata": {},
   "outputs": [
    {
     "data": {
      "text/plain": [
       "5"
      ]
     },
     "execution_count": 86,
     "metadata": {},
     "output_type": "execute_result"
    }
   ],
   "source": [
    "f.ndim"
   ]
  },
  {
   "cell_type": "code",
   "execution_count": 87,
   "id": "d14fec07",
   "metadata": {},
   "outputs": [
    {
     "data": {
      "text/plain": [
       "(1, 1, 1, 4, 4)"
      ]
     },
     "execution_count": 87,
     "metadata": {},
     "output_type": "execute_result"
    }
   ],
   "source": [
    "f.shape"
   ]
  },
  {
   "cell_type": "code",
   "execution_count": 88,
   "id": "afe3ad78",
   "metadata": {},
   "outputs": [
    {
     "data": {
      "text/plain": [
       "16"
      ]
     },
     "execution_count": 88,
     "metadata": {},
     "output_type": "execute_result"
    }
   ],
   "source": [
    "f.size"
   ]
  },
  {
   "cell_type": "code",
   "execution_count": 89,
   "id": "c177ca43",
   "metadata": {},
   "outputs": [
    {
     "data": {
      "text/plain": [
       "array([2., 3., 4., 5.])"
      ]
     },
     "execution_count": 89,
     "metadata": {},
     "output_type": "execute_result"
    }
   ],
   "source": [
    "f[0][0][0][1]"
   ]
  },
  {
   "cell_type": "markdown",
   "id": "48ca5b67",
   "metadata": {},
   "source": [
    "## filling arrays"
   ]
  },
  {
   "cell_type": "code",
   "execution_count": 6,
   "id": "78508446",
   "metadata": {},
   "outputs": [],
   "source": [
    "s=np.full((5,3,5,6),7)"
   ]
  },
  {
   "cell_type": "code",
   "execution_count": 100,
   "id": "a087b157",
   "metadata": {},
   "outputs": [
    {
     "data": {
      "text/plain": [
       "array([[[[7, 7, 7, 7, 7, 7],\n",
       "         [7, 7, 7, 7, 7, 7],\n",
       "         [7, 7, 7, 7, 7, 7],\n",
       "         [7, 7, 7, 7, 7, 7],\n",
       "         [7, 7, 7, 7, 7, 7]],\n",
       "\n",
       "        [[7, 7, 7, 7, 7, 7],\n",
       "         [7, 7, 7, 7, 7, 7],\n",
       "         [7, 7, 7, 7, 7, 7],\n",
       "         [7, 7, 7, 7, 7, 7],\n",
       "         [7, 7, 7, 7, 7, 7]],\n",
       "\n",
       "        [[7, 7, 7, 7, 7, 7],\n",
       "         [7, 7, 7, 7, 7, 7],\n",
       "         [7, 7, 7, 7, 7, 7],\n",
       "         [7, 7, 7, 7, 7, 7],\n",
       "         [7, 7, 7, 7, 7, 7]]],\n",
       "\n",
       "\n",
       "       [[[7, 7, 7, 7, 7, 7],\n",
       "         [7, 7, 7, 7, 7, 7],\n",
       "         [7, 7, 7, 7, 7, 7],\n",
       "         [7, 7, 7, 7, 7, 7],\n",
       "         [7, 7, 7, 7, 7, 7]],\n",
       "\n",
       "        [[7, 7, 7, 7, 7, 7],\n",
       "         [7, 7, 7, 7, 7, 7],\n",
       "         [7, 7, 7, 7, 7, 7],\n",
       "         [7, 7, 7, 7, 7, 7],\n",
       "         [7, 7, 7, 7, 7, 7]],\n",
       "\n",
       "        [[7, 7, 7, 7, 7, 7],\n",
       "         [7, 7, 7, 7, 7, 7],\n",
       "         [7, 7, 7, 7, 7, 7],\n",
       "         [7, 7, 7, 7, 7, 7],\n",
       "         [7, 7, 7, 7, 7, 7]]],\n",
       "\n",
       "\n",
       "       [[[7, 7, 7, 7, 7, 7],\n",
       "         [7, 7, 7, 7, 7, 7],\n",
       "         [7, 7, 7, 7, 7, 7],\n",
       "         [7, 7, 7, 7, 7, 7],\n",
       "         [7, 7, 7, 7, 7, 7]],\n",
       "\n",
       "        [[7, 7, 7, 7, 7, 7],\n",
       "         [7, 7, 7, 7, 7, 7],\n",
       "         [7, 7, 7, 7, 7, 7],\n",
       "         [7, 7, 7, 7, 7, 7],\n",
       "         [7, 7, 7, 7, 7, 7]],\n",
       "\n",
       "        [[7, 7, 7, 7, 7, 7],\n",
       "         [7, 7, 7, 7, 7, 7],\n",
       "         [7, 7, 7, 7, 7, 7],\n",
       "         [7, 7, 7, 7, 7, 7],\n",
       "         [7, 7, 7, 7, 7, 7]]],\n",
       "\n",
       "\n",
       "       [[[7, 7, 7, 7, 7, 7],\n",
       "         [7, 7, 7, 7, 7, 7],\n",
       "         [7, 7, 7, 7, 7, 7],\n",
       "         [7, 7, 7, 7, 7, 7],\n",
       "         [7, 7, 7, 7, 7, 7]],\n",
       "\n",
       "        [[7, 7, 7, 7, 7, 7],\n",
       "         [7, 7, 7, 7, 7, 7],\n",
       "         [7, 7, 7, 7, 7, 7],\n",
       "         [7, 7, 7, 7, 7, 7],\n",
       "         [7, 7, 7, 7, 7, 7]],\n",
       "\n",
       "        [[7, 7, 7, 7, 7, 7],\n",
       "         [7, 7, 7, 7, 7, 7],\n",
       "         [7, 7, 7, 7, 7, 7],\n",
       "         [7, 7, 7, 7, 7, 7],\n",
       "         [7, 7, 7, 7, 7, 7]]],\n",
       "\n",
       "\n",
       "       [[[7, 7, 7, 7, 7, 7],\n",
       "         [7, 7, 7, 7, 7, 7],\n",
       "         [7, 7, 7, 7, 7, 7],\n",
       "         [7, 7, 7, 7, 7, 7],\n",
       "         [7, 7, 7, 7, 7, 7]],\n",
       "\n",
       "        [[7, 7, 7, 7, 7, 7],\n",
       "         [7, 7, 7, 7, 7, 7],\n",
       "         [7, 7, 7, 7, 7, 7],\n",
       "         [7, 7, 7, 7, 7, 7],\n",
       "         [7, 7, 7, 7, 7, 7]],\n",
       "\n",
       "        [[7, 7, 7, 7, 7, 7],\n",
       "         [7, 7, 7, 7, 7, 7],\n",
       "         [7, 7, 7, 7, 7, 7],\n",
       "         [7, 7, 7, 7, 7, 7],\n",
       "         [7, 7, 7, 7, 7, 7]]]])"
      ]
     },
     "execution_count": 100,
     "metadata": {},
     "output_type": "execute_result"
    }
   ],
   "source": [
    "s"
   ]
  },
  {
   "cell_type": "code",
   "execution_count": 7,
   "id": "07137b53",
   "metadata": {},
   "outputs": [
    {
     "data": {
      "text/plain": [
       "4"
      ]
     },
     "execution_count": 7,
     "metadata": {},
     "output_type": "execute_result"
    }
   ],
   "source": [
    "s.ndim"
   ]
  },
  {
   "cell_type": "markdown",
   "id": "315f517e",
   "metadata": {},
   "source": [
    "# zeros and ones"
   ]
  },
  {
   "cell_type": "code",
   "execution_count": 8,
   "id": "b2bcebb5",
   "metadata": {},
   "outputs": [],
   "source": [
    "r=np.zeros((4,4))"
   ]
  },
  {
   "cell_type": "code",
   "execution_count": 9,
   "id": "327df8b4",
   "metadata": {},
   "outputs": [
    {
     "data": {
      "text/plain": [
       "array([[0., 0., 0., 0.],\n",
       "       [0., 0., 0., 0.],\n",
       "       [0., 0., 0., 0.],\n",
       "       [0., 0., 0., 0.]])"
      ]
     },
     "execution_count": 9,
     "metadata": {},
     "output_type": "execute_result"
    }
   ],
   "source": [
    "r"
   ]
  },
  {
   "cell_type": "code",
   "execution_count": 10,
   "id": "4c8debd6",
   "metadata": {},
   "outputs": [],
   "source": [
    "v=np.ones((4,3,2))"
   ]
  },
  {
   "cell_type": "code",
   "execution_count": 11,
   "id": "31970ab2",
   "metadata": {},
   "outputs": [
    {
     "data": {
      "text/plain": [
       "array([[[1., 1.],\n",
       "        [1., 1.],\n",
       "        [1., 1.]],\n",
       "\n",
       "       [[1., 1.],\n",
       "        [1., 1.],\n",
       "        [1., 1.]],\n",
       "\n",
       "       [[1., 1.],\n",
       "        [1., 1.],\n",
       "        [1., 1.]],\n",
       "\n",
       "       [[1., 1.],\n",
       "        [1., 1.],\n",
       "        [1., 1.]]])"
      ]
     },
     "execution_count": 11,
     "metadata": {},
     "output_type": "execute_result"
    }
   ],
   "source": [
    "v"
   ]
  },
  {
   "cell_type": "code",
   "execution_count": 12,
   "id": "62ce90ca",
   "metadata": {},
   "outputs": [
    {
     "data": {
      "text/plain": [
       "3"
      ]
     },
     "execution_count": 12,
     "metadata": {},
     "output_type": "execute_result"
    }
   ],
   "source": [
    "v.ndim"
   ]
  },
  {
   "cell_type": "code",
   "execution_count": 13,
   "id": "d89dd407",
   "metadata": {},
   "outputs": [
    {
     "data": {
      "text/plain": [
       "(4, 3, 2)"
      ]
     },
     "execution_count": 13,
     "metadata": {},
     "output_type": "execute_result"
    }
   ],
   "source": [
    "v.shape"
   ]
  },
  {
   "cell_type": "markdown",
   "id": "bd6cea38",
   "metadata": {},
   "source": [
    "# empty and random"
   ]
  },
  {
   "cell_type": "code",
   "execution_count": 14,
   "id": "1be0277c",
   "metadata": {},
   "outputs": [],
   "source": [
    "w=np.empty((3,3))"
   ]
  },
  {
   "cell_type": "code",
   "execution_count": 15,
   "id": "8544a3ec",
   "metadata": {},
   "outputs": [
    {
     "data": {
      "text/plain": [
       "array([[4.67296746e-307, 1.69121096e-306, 8.01095173e-307],\n",
       "       [6.23054293e-307, 2.22526399e-307, 6.23053614e-307],\n",
       "       [7.56592338e-307, 9.34588061e-307, 3.62651150e-317]])"
      ]
     },
     "execution_count": 15,
     "metadata": {},
     "output_type": "execute_result"
    }
   ],
   "source": [
    "w"
   ]
  },
  {
   "cell_type": "code",
   "execution_count": 16,
   "id": "b5cd8a04",
   "metadata": {},
   "outputs": [],
   "source": [
    "p=np.random.random((2,2))"
   ]
  },
  {
   "cell_type": "code",
   "execution_count": 17,
   "id": "2875d674",
   "metadata": {},
   "outputs": [
    {
     "data": {
      "text/plain": [
       "array([[0.43559831, 0.22595591],\n",
       "       [0.18104944, 0.38543059]])"
      ]
     },
     "execution_count": 17,
     "metadata": {},
     "output_type": "execute_result"
    }
   ],
   "source": [
    "p"
   ]
  },
  {
   "cell_type": "code",
   "execution_count": 18,
   "id": "2bc20db1",
   "metadata": {},
   "outputs": [
    {
     "data": {
      "text/plain": [
       "2"
      ]
     },
     "execution_count": 18,
     "metadata": {},
     "output_type": "execute_result"
    }
   ],
   "source": [
    "p.ndim"
   ]
  },
  {
   "cell_type": "code",
   "execution_count": 19,
   "id": "80121df3",
   "metadata": {},
   "outputs": [
    {
     "data": {
      "text/plain": [
       "4"
      ]
     },
     "execution_count": 19,
     "metadata": {},
     "output_type": "execute_result"
    }
   ],
   "source": [
    "p.size"
   ]
  },
  {
   "cell_type": "code",
   "execution_count": null,
   "id": "7586f569",
   "metadata": {},
   "outputs": [],
   "source": []
  },
  {
   "cell_type": "markdown",
   "id": "2e643b0a",
   "metadata": {},
   "source": [
    "# ranges "
   ]
  },
  {
   "cell_type": "code",
   "execution_count": 20,
   "id": "77568fe4",
   "metadata": {},
   "outputs": [],
   "source": [
    "q=np.arange(12,90,4)"
   ]
  },
  {
   "cell_type": "code",
   "execution_count": 21,
   "id": "ab4d5b28",
   "metadata": {},
   "outputs": [
    {
     "data": {
      "text/plain": [
       "array([12, 16, 20, 24, 28, 32, 36, 40, 44, 48, 52, 56, 60, 64, 68, 72, 76,\n",
       "       80, 84, 88])"
      ]
     },
     "execution_count": 21,
     "metadata": {},
     "output_type": "execute_result"
    }
   ],
   "source": [
    "q"
   ]
  },
  {
   "cell_type": "markdown",
   "id": "a660eee9",
   "metadata": {},
   "source": [
    "# linspace"
   ]
  },
  {
   "cell_type": "code",
   "execution_count": 26,
   "id": "d26b3093",
   "metadata": {},
   "outputs": [],
   "source": [
    "z=np.linspace(1,50,50)"
   ]
  },
  {
   "cell_type": "code",
   "execution_count": 27,
   "id": "9daaa57d",
   "metadata": {},
   "outputs": [
    {
     "data": {
      "text/plain": [
       "array([ 1.,  2.,  3.,  4.,  5.,  6.,  7.,  8.,  9., 10., 11., 12., 13.,\n",
       "       14., 15., 16., 17., 18., 19., 20., 21., 22., 23., 24., 25., 26.,\n",
       "       27., 28., 29., 30., 31., 32., 33., 34., 35., 36., 37., 38., 39.,\n",
       "       40., 41., 42., 43., 44., 45., 46., 47., 48., 49., 50.])"
      ]
     },
     "execution_count": 27,
     "metadata": {},
     "output_type": "execute_result"
    }
   ],
   "source": [
    "z"
   ]
  },
  {
   "cell_type": "code",
   "execution_count": 28,
   "id": "75d118e9",
   "metadata": {},
   "outputs": [
    {
     "data": {
      "text/plain": [
       "50"
      ]
     },
     "execution_count": 28,
     "metadata": {},
     "output_type": "execute_result"
    }
   ],
   "source": [
    "z.size"
   ]
  },
  {
   "cell_type": "code",
   "execution_count": 31,
   "id": "b14e041e",
   "metadata": {},
   "outputs": [],
   "source": [
    "z=np.linspace(0,50,13,dtype=int)"
   ]
  },
  {
   "cell_type": "code",
   "execution_count": 32,
   "id": "ba8276b6",
   "metadata": {},
   "outputs": [
    {
     "data": {
      "text/plain": [
       "array([ 0,  4,  8, 12, 16, 20, 25, 29, 33, 37, 41, 45, 50])"
      ]
     },
     "execution_count": 32,
     "metadata": {},
     "output_type": "execute_result"
    }
   ],
   "source": [
    "z"
   ]
  },
  {
   "cell_type": "markdown",
   "id": "6f13d23a",
   "metadata": {},
   "source": [
    "# math function"
   ]
  },
  {
   "cell_type": "code",
   "execution_count": 4,
   "id": "b6a57f86",
   "metadata": {},
   "outputs": [],
   "source": [
    "a=np.array([10,20,30,40,50,60,70,80])"
   ]
  },
  {
   "cell_type": "code",
   "execution_count": 5,
   "id": "dc7ea655",
   "metadata": {},
   "outputs": [
    {
     "data": {
      "text/plain": [
       "array([10, 20, 30, 40, 50, 60, 70, 80])"
      ]
     },
     "execution_count": 5,
     "metadata": {},
     "output_type": "execute_result"
    }
   ],
   "source": [
    "a"
   ]
  },
  {
   "cell_type": "code",
   "execution_count": 6,
   "id": "8754a267",
   "metadata": {},
   "outputs": [
    {
     "data": {
      "text/plain": [
       "array([2.20264658e+04, 4.85165195e+08, 1.06864746e+13, 2.35385267e+17,\n",
       "       5.18470553e+21, 1.14200739e+26, 2.51543867e+30, 5.54062238e+34])"
      ]
     },
     "execution_count": 6,
     "metadata": {},
     "output_type": "execute_result"
    }
   ],
   "source": [
    "np.exp(a)"
   ]
  },
  {
   "cell_type": "code",
   "execution_count": 37,
   "id": "604dc0b3",
   "metadata": {},
   "outputs": [
    {
     "data": {
      "text/plain": [
       "array([-0.54402111,  0.91294525, -0.98803162,  0.74511316, -0.26237485,\n",
       "       -0.30481062,  0.77389068, -0.99388865])"
      ]
     },
     "execution_count": 37,
     "metadata": {},
     "output_type": "execute_result"
    }
   ],
   "source": [
    "np.sin(a)"
   ]
  },
  {
   "cell_type": "code",
   "execution_count": 38,
   "id": "404e7ed9",
   "metadata": {},
   "outputs": [
    {
     "data": {
      "text/plain": [
       "array([-0.83907153,  0.40808206,  0.15425145, -0.66693806,  0.96496603,\n",
       "       -0.95241298,  0.6333192 , -0.11038724])"
      ]
     },
     "execution_count": 38,
     "metadata": {},
     "output_type": "execute_result"
    }
   ],
   "source": [
    "np.cos(a)"
   ]
  },
  {
   "cell_type": "code",
   "execution_count": 39,
   "id": "495cdb71",
   "metadata": {},
   "outputs": [
    {
     "data": {
      "text/plain": [
       "array([ 0.64836083,  2.23716094, -6.4053312 , -1.11721493, -0.27190061,\n",
       "        0.32004039,  1.22195992,  9.00365495])"
      ]
     },
     "execution_count": 39,
     "metadata": {},
     "output_type": "execute_result"
    }
   ],
   "source": [
    "np.tan(a)"
   ]
  },
  {
   "cell_type": "code",
   "execution_count": 7,
   "id": "4dc1f89a",
   "metadata": {},
   "outputs": [
    {
     "data": {
      "text/plain": [
       "array([2.30258509, 2.99573227, 3.40119738, 3.68887945, 3.91202301,\n",
       "       4.09434456, 4.24849524, 4.38202663])"
      ]
     },
     "execution_count": 7,
     "metadata": {},
     "output_type": "execute_result"
    }
   ],
   "source": [
    "np.log(a)"
   ]
  },
  {
   "cell_type": "code",
   "execution_count": 8,
   "id": "9f9cf203",
   "metadata": {},
   "outputs": [
    {
     "data": {
      "text/plain": [
       "array([3.16227766, 4.47213595, 5.47722558, 6.32455532, 7.07106781,\n",
       "       7.74596669, 8.36660027, 8.94427191])"
      ]
     },
     "execution_count": 8,
     "metadata": {},
     "output_type": "execute_result"
    }
   ],
   "source": [
    "np.sqrt(a)"
   ]
  },
  {
   "cell_type": "code",
   "execution_count": 9,
   "id": "4077c730",
   "metadata": {},
   "outputs": [
    {
     "data": {
      "text/plain": [
       "360"
      ]
     },
     "execution_count": 9,
     "metadata": {},
     "output_type": "execute_result"
    }
   ],
   "source": [
    "a.sum()"
   ]
  },
  {
   "cell_type": "code",
   "execution_count": 10,
   "id": "c43f0be7",
   "metadata": {},
   "outputs": [
    {
     "data": {
      "text/plain": [
       "10"
      ]
     },
     "execution_count": 10,
     "metadata": {},
     "output_type": "execute_result"
    }
   ],
   "source": [
    "a.min()"
   ]
  },
  {
   "cell_type": "code",
   "execution_count": 11,
   "id": "77132380",
   "metadata": {},
   "outputs": [
    {
     "data": {
      "text/plain": [
       "45.0"
      ]
     },
     "execution_count": 11,
     "metadata": {},
     "output_type": "execute_result"
    }
   ],
   "source": [
    "a.mean()"
   ]
  },
  {
   "cell_type": "code",
   "execution_count": 14,
   "id": "8a09ecfe",
   "metadata": {},
   "outputs": [
    {
     "data": {
      "text/plain": [
       "45.0"
      ]
     },
     "execution_count": 14,
     "metadata": {},
     "output_type": "execute_result"
    }
   ],
   "source": [
    "np.median(a)"
   ]
  },
  {
   "cell_type": "code",
   "execution_count": 15,
   "id": "f28a8403",
   "metadata": {},
   "outputs": [
    {
     "data": {
      "text/plain": [
       "22.9128784747792"
      ]
     },
     "execution_count": 15,
     "metadata": {},
     "output_type": "execute_result"
    }
   ],
   "source": [
    "np.std(a)"
   ]
  },
  {
   "cell_type": "code",
   "execution_count": null,
   "id": "0dd4c153",
   "metadata": {},
   "outputs": [],
   "source": []
  },
  {
   "cell_type": "code",
   "execution_count": null,
   "id": "80afe49b",
   "metadata": {},
   "outputs": [],
   "source": []
  }
 ],
 "metadata": {
  "kernelspec": {
   "display_name": "Python 3 (ipykernel)",
   "language": "python",
   "name": "python3"
  },
  "language_info": {
   "codemirror_mode": {
    "name": "ipython",
    "version": 3
   },
   "file_extension": ".py",
   "mimetype": "text/x-python",
   "name": "python",
   "nbconvert_exporter": "python",
   "pygments_lexer": "ipython3",
   "version": "3.9.13"
  }
 },
 "nbformat": 4,
 "nbformat_minor": 5
}
